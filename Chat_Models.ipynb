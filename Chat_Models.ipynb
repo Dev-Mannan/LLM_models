{
 "cells": [
  {
   "cell_type": "markdown",
   "metadata": {},
   "source": [
    "Importing Langchain & OpenAi "
   ]
  },
  {
   "cell_type": "code",
   "execution_count": null,
   "metadata": {},
   "outputs": [],
   "source": [
    "from langchain.llms import OpenAI\n"
   ]
  },
  {
   "cell_type": "code",
   "execution_count": null,
   "metadata": {},
   "outputs": [],
   "source": [
    "llm = OpenAI(temperature=0.7)"
   ]
  },
  {
   "cell_type": "code",
   "execution_count": null,
   "metadata": {},
   "outputs": [],
   "source": [
    "text = \"what is the capital of india \"\n",
    "print(llm.predict(text))"
   ]
  },
  {
   "cell_type": "code",
   "execution_count": null,
   "metadata": {},
   "outputs": [],
   "source": [
    "from langchain.llms import HuggingFaceHub\n",
    "llm_huggingface = HuggingFaceHub(repo_id=\"google/flan-t5-large\",model_kwargs={\"temperature\":0.7,\"max_legth\":100})"
   ]
  },
  {
   "cell_type": "code",
   "execution_count": null,
   "metadata": {},
   "outputs": [],
   "source": [
    "from langchain.llms import HuggingFaceHub\n",
    "\n",
    "llm_huggingface = HuggingFaceHub(repo_id=\"google/flan-t5-large\", model_kwargs={\"temperature\": 0.7, \"max_length\": 100})\n"
   ]
  },
  {
   "cell_type": "markdown",
   "metadata": {},
   "source": [
    "Difference using HuggingFace LLM open source"
   ]
  },
  {
   "cell_type": "code",
   "execution_count": null,
   "metadata": {},
   "outputs": [],
   "source": [
    "output = llm_huggingface.generate([\"can you write a poem on AI \"])\n",
    "print(output)\n"
   ]
  },
  {
   "cell_type": "markdown",
   "metadata": {},
   "source": [
    "Diffrence using ChatGPT 3.5 "
   ]
  },
  {
   "cell_type": "code",
   "execution_count": null,
   "metadata": {},
   "outputs": [],
   "source": [
    "llm.predict(\"can you write a poem on AI\")"
   ]
  },
  {
   "cell_type": "markdown",
   "metadata": {},
   "source": [
    "Prompt Template "
   ]
  },
  {
   "cell_type": "code",
   "execution_count": null,
   "metadata": {},
   "outputs": [],
   "source": [
    "from langchain.prompts import PromptTemplate\n",
    "\n",
    "prompt_template = PromptTemplate(input_variables=[\"country\"],\n",
    "template=\"Tell me the capital of this {country}\")\n",
    "\n",
    "prompt_template.format(country='')"
   ]
  },
  {
   "cell_type": "markdown",
   "metadata": {},
   "source": [
    "here introducing LLMChain from langchain helped to hold the prompt and combine"
   ]
  },
  {
   "cell_type": "code",
   "execution_count": null,
   "metadata": {},
   "outputs": [],
   "source": [
    "from langchain.chains import LLMChain\n",
    "chain=LLMChain(llm=llm,prompt=prompt_template)\n",
    "chain.run(\"czech Republic\")"
   ]
  },
  {
   "cell_type": "markdown",
   "metadata": {},
   "source": [
    "here Combining Multiple chains Using Simple Sequential Chain"
   ]
  },
  {
   "cell_type": "code",
   "execution_count": null,
   "metadata": {},
   "outputs": [],
   "source": [
    "capital_template=PromptTemplate(input_variables=['country'],\n",
    "template=\"Tell me the capital of this {country}\")\n",
    "\n",
    "capital_chain=LLMChain(llm=llm,prompt=capital_template)\n",
    "\n",
    "famous_template=PromptTemplate(input_variables=['capital'],\n",
    "template=\"suggest me some amazing places to visit in {capital}\")\n"
   ]
  },
  {
   "cell_type": "code",
   "execution_count": null,
   "metadata": {},
   "outputs": [],
   "source": [
    "famous_chain=LLMChain(llm=llm,prompt=famous_template)\n"
   ]
  },
  {
   "cell_type": "code",
   "execution_count": null,
   "metadata": {},
   "outputs": [],
   "source": [
    "from langchain.chains import SimpleSequentialChain\n",
    "\n",
    "chain=SimpleSequentialChain(chains=[capital_chain,famous_chain])\n",
    "\n",
    "chain.run(\"UAE\")"
   ]
  },
  {
   "cell_type": "markdown",
   "metadata": {},
   "source": [
    "Sequential Chain addOn"
   ]
  },
  {
   "cell_type": "code",
   "execution_count": null,
   "metadata": {},
   "outputs": [],
   "source": [
    "capital_template=PromptTemplate(input_variables=['country'],\n",
    "template=\"Tell me the capital of this {country}\")\n",
    "\n",
    "capital_chain=LLMChain(llm=llm,prompt=capital_template,output_key=\"capital\")"
   ]
  },
  {
   "cell_type": "code",
   "execution_count": null,
   "metadata": {},
   "outputs": [],
   "source": [
    "famous_template=PromptTemplate(input_variables=['capital'],\n",
    "template=\"suggest me some amazing places to visit in {capital}\")\n",
    "famous_chain=LLMChain(llm=llm,prompt=famous_template,output_key=\"places\")"
   ]
  },
  {
   "cell_type": "code",
   "execution_count": null,
   "metadata": {},
   "outputs": [],
   "source": [
    "from langchain.chains import SequentialChain\n",
    "chain=SequentialChain(chains=[capital_chain,famous_chain],\n",
    "input_variables=[\"country\"],\n",
    "output_variables=[\"places\"])"
   ]
  },
  {
   "cell_type": "code",
   "execution_count": null,
   "metadata": {},
   "outputs": [],
   "source": [
    "chain({'country':'Poland'})"
   ]
  },
  {
   "cell_type": "markdown",
   "metadata": {},
   "source": [
    "Chatmodels with ChatOpenAI"
   ]
  },
  {
   "cell_type": "code",
   "execution_count": 13,
   "metadata": {},
   "outputs": [],
   "source": [
    "from langchain.chat_models import ChatOpenAI"
   ]
  },
  {
   "cell_type": "code",
   "execution_count": 14,
   "metadata": {},
   "outputs": [],
   "source": [
    "chatllm=ChatOpenAI(temperature=0.7,model=\"gpt-3.5-turbo\")"
   ]
  },
  {
   "cell_type": "code",
   "execution_count": 15,
   "metadata": {},
   "outputs": [
    {
     "data": {
      "text/plain": [
       "AIMessage(content='Certainly! Here are some rising startups in the field of AI:\\n\\n1. OpenAI: OpenAI is an AI research laboratory that aims to ensure that artificial general intelligence (AGI) benefits all of humanity. They are known for developing advanced AI models such as GPT-3, which can perform various tasks like language translation, content generation, and more.\\n\\n2. UiPath: UiPath is a leading robotic process automation (RPA) software company that uses AI and machine learning to automate repetitive tasks. Their platform enables organizations to automate business processes, including data entry, customer service, and financial transactions.\\n\\n3. Cerebras Systems: Cerebras Systems is a startup that designs and manufactures AI processors. Their flagship product, the Cerebras Wafer Scale Engine (WSE), is the largest chip ever built and is specifically designed for accelerating deep learning workloads.\\n\\n4. Luminoso: Luminoso is an AI-powered natural language understanding company that specializes in text analytics. Their technology can extract insights from unstructured text data, enabling organizations to better understand customer feedback, social media trends, and other textual data sources.\\n\\n5. DataRobot: DataRobot is an automated machine learning platform that helps organizations build and deploy AI models. Their platform allows users to automate the end-to-end process of building, deploying, and managing machine learning models without extensive coding or data science expertise.\\n\\n6. SambaNova Systems: SambaNova Systems develops advanced AI hardware and software solutions. They have created a scalable and programmable AI platform that combines hardware acceleration with software flexibility, enabling organizations to train and deploy AI models efficiently.\\n\\n7. Sentropy: Sentropy is a startup that uses AI to detect and prevent online harassment and abuse. Their technology analyzes social media content in real-time, identifying and blocking harmful or malicious content to create safer online communities.\\n\\n8. GenSyn: GenSyn is a startup that uses AI to optimize the design and manufacturing processes in the semiconductor industry. Their AI-powered platform can identify and resolve bottlenecks, improve yield rates, and accelerate the development of new semiconductor technologies.\\n\\nThese are just a few examples of rising startups in the AI space. The field is rapidly evolving, and there are many more innovative companies making significant contributions to the AI industry.')"
      ]
     },
     "execution_count": 15,
     "metadata": {},
     "output_type": "execute_result"
    }
   ],
   "source": [
    "chatllm([\n",
    "    SystemMessage(content=\"You are my personal Intelligent assistant\"),\n",
    "    HumanMessage(content=\"Please provide me details of rising startups regards AI\")\n",
    "\n",
    "])"
   ]
  },
  {
   "cell_type": "markdown",
   "metadata": {},
   "source": [
    "Prompt Template + LLM + Output Parsers"
   ]
  }
 ],
 "metadata": {
  "kernelspec": {
   "display_name": "base",
   "language": "python",
   "name": "python3"
  },
  "language_info": {
   "codemirror_mode": {
    "name": "ipython",
    "version": 3
   },
   "file_extension": ".py",
   "mimetype": "text/x-python",
   "name": "python",
   "nbconvert_exporter": "python",
   "pygments_lexer": "ipython3",
   "version": "3.9.0"
  }
 },
 "nbformat": 4,
 "nbformat_minor": 2
}
